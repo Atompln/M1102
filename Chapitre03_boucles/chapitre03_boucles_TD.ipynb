{
 "cells": [
  {
   "cell_type": "markdown",
   "metadata": {},
   "source": [
    "# <center> Chapitre 3 : Boucles simples -TD</center>"
   ]
  },
  {
   "cell_type": "markdown",
   "metadata": {},
   "source": [
    "## Exercice 1 : Test de compréhension*\n",
    "### Question 1 : syntaxe\n",
    "Quelle est la synt axe du `while`?"
   ]
  },
  {
   "cell_type": "markdown",
   "metadata": {},
   "source": [
    "### Question 2 : indentation\n",
    "Qu'est-ce qu'une *indentation* ? À quoi cela sert-il ?"
   ]
  },
  {
   "cell_type": "markdown",
   "metadata": {},
   "source": [
    "### Question 3 : itération\n",
    "Qu'est ce qu'une *itération* ?"
   ]
  },
  {
   "cell_type": "markdown",
   "metadata": {},
   "source": [
    "### Question 4 : Nombre minimal d'itérations\n",
    "Y a-t-il toujours au moins une itération dans une boucle ? Justifier votre réponse. "
   ]
  },
  {
   "cell_type": "markdown",
   "metadata": {},
   "source": [
    "### Question 5 : Initialisation\n",
    "Qu'est-ce qu'une *initialisation* ? Pourquoi est-ce une notion importante dans le cas des boucles ?"
   ]
  },
  {
   "cell_type": "markdown",
   "metadata": {},
   "source": [
    "### Question 6 : Affectation compacte\n",
    "À quoi correspondent les instructions compactes `i+=3, j-=7, k*=2, h/=4` ? <br>\n",
    "Comment écrire de manière compacte `a=3+a, a=8*a, a=2-a, a=3/a` ?  "
   ]
  },
  {
   "cell_type": "markdown",
   "metadata": {},
   "source": [
    "## Exercice 2 : Affichage d'entiers et décrémentation*\n",
    "Afficher les entiers de 1 à 20 dans l'ordre décroissant."
   ]
  },
  {
   "cell_type": "markdown",
   "metadata": {},
   "source": [
    "## Exercice 3 : Table de multiplication*\n",
    "\n",
    "Afficher la table de multiplication de 7 jusqu'à 20 comme suit :<br>\n",
    " 1 \\* 7 = 7<br>\n",
    " 2 \\* 7 = 14<br>\n",
    " ...<br>\n",
    "19 \\* 7 = 133<br>\n",
    "20 \\* 7 = 140"
   ]
  },
  {
   "cell_type": "markdown",
   "metadata": {},
   "source": [
    "## Exercice 4 : Saisie contrôlée d'un entier positif**\n",
    "Ecrire un programme demandant à l'utilisateur de saisir un\n",
    "nombre entier positif. La saisie sera répétée jusqu'à ce que\n",
    "le nombre soit positif.<br>\n",
    "Même question pour un nombre entier\n",
    "positif et multiple de 3."
   ]
  },
  {
   "cell_type": "markdown",
   "metadata": {},
   "source": [
    "## Exercice 5 : Test de primalité**\n",
    "Ecrire un programme permettant de vérifier si un nombre saisi par l'utilisateur est premier. <br>\n",
    "**Rappel :**  Un nombre *premier* est un entier positif qui sont admet exactement deux diviseurs entiers et positifs qui sont 1 et lui-même. Le nombre 13 est donc un nombre premier, alors que 6 ne l'est pas puisque 6 = 2\\* 3."
   ]
  },
  {
   "cell_type": "markdown",
   "metadata": {},
   "source": [
    "## Exercice 6 : Boucle sans arrêt*\n",
    "Ecrire un programme permettant d'afficher indéfiniment les entiers successifs à partir de 0"
   ]
  },
  {
   "cell_type": "markdown",
   "metadata": {},
   "source": [
    "## Exercice 7 : Chiffres romains\\*\\*\\*\n",
    "\n",
    "Ecrire un programme demandant à l'utilisateur un nombre compris entre 1 et 50 et affichant ce nombre en chiffres romains."
   ]
  }
 ],
 "metadata": {
  "kernelspec": {
   "display_name": "Python 3",
   "language": "python",
   "name": "python3"
  },
  "language_info": {
   "codemirror_mode": {
    "name": "ipython",
    "version": 3
   },
   "file_extension": ".py",
   "mimetype": "text/x-python",
   "name": "python",
   "nbconvert_exporter": "python",
   "pygments_lexer": "ipython3",
   "version": "3.6.4"
  }
 },
 "nbformat": 4,
 "nbformat_minor": 2
}
